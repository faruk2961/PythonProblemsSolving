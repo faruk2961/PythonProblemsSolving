{
 "cells": [
  {
   "cell_type": "markdown",
   "metadata": {},
   "source": [
    "Question 2)\n",
    "Write (and evaluate) C# expressions that answer these questions:\n",
    "a. How many letters are there in 'Supercalifragilisticexpialidocious'?\n",
    "b. Does 'Supercalifragilisticexpialidocious' contain 'ice' as a substring?\n",
    "c. Which of the following words is the longest: Supercalifragilisticexpialidocious, Honorificabilitudinitatibus, or Bababadalgharaghtakamminarronnkonn?\n",
    "d. Which composer comes first in the dictionary: 'Berlioz', 'Borodin', 'Brian', 'Bartok', 'Bellini', 'Buxtehude', 'Bernstein'. Which one comes last?"
   ]
  },
  {
   "cell_type": "code",
   "execution_count": null,
   "metadata": {},
   "outputs": [],
   "source": [
    "using System; #Virtual Studio\n",
    "\n",
    "namespace FarukFurkan.KOC.BDAT1004PS2\n",
    "{\n",
    "    class Program\n",
    "    {\n",
    "        static void Main(string[] args)\n",
    "        {\n",
    "            var word1 = \"Supercalifragilisticexpialidocious\";\n",
    "            var word2 = \"Honorificabilitudinitatibus\";\n",
    "            var word3 = \"Bababadalgharaghtakamminarronnkonn\";\n",
    "            #a)How many letters are there in 'Supercalifragilisticexpialidocious'?\n",
    "            #printing out length of the sentence\n",
    "            Console.WriteLine(word1.Length);\n",
    "\n",
    "            #b)Does 'Supercalifragilisticexpialidocious' contain 'ice' as a substring?\n",
    "            Console.WriteLine(word1.Contains(\"ice\"));\n",
    "\n",
    "            #c)Which of the following words is the longest: Supercalifragilisticexpialidocious,\n",
    "            #Honorificabilitudinitatibus, or Bababadalgharaghtakamminarronnkonn?\n",
    "\n",
    "            #comparing lengts of words\n",
    "            if (word1.Length > word2.Length && word1.Length > word3.Length)\n",
    "            {\n",
    "                Console.WriteLine(word1 + \" is the longest\");\n",
    "            }\n",
    "            else if (word2.Length > word1.Length && word2.Length > word3.Length)\n",
    "            {\n",
    "                Console.WriteLine(word2 + \" is the longest\");\n",
    "            }\n",
    "            else if (word3.Length > word1.Length && word3.Length > word2.Length)\n",
    "            {\n",
    "                Console.WriteLine(word3 + \" is the longest\");\n",
    "            }\n",
    "            else if (word1.Length == word2.Length && word1.Length > word3.Length)\n",
    "            {\n",
    "                Console.WriteLine(word1 + \" and \" + word2 + \" are the same and longer than \" + word3);\n",
    "            }\n",
    "            else if (word1.Length == word3.Length && word1.Length > word2.Length)\n",
    "            {\n",
    "                Console.WriteLine(word1 + \" and \" + word3 + \" are the same and longer than \" + word2);\n",
    "            }\n",
    "            else if (word2.Length == word3.Length && word2.Length > word1.Length)\n",
    "            {\n",
    "                Console.WriteLine(word2 + \" and \" + word3 + \" are the same and longer than \" + word1);\n",
    "            }\n",
    "            #d)Which composer comes first in the dictionary:\n",
    "            #'Berlioz', 'Borodin', 'Brian', 'Bartok', 'Bellini', 'Buxtehude', 'Bernstein'. Which one comes last?\n",
    "            #sorting words\n",
    "            string[] array = { \"Berlioz\", \"Borodin\", \"Brian\", \"Bartok\", \"Bellini\", \"Buxtehude\", \"Bernstein\" };\n",
    "\n",
    "            Array.Sort(array);\n",
    "            Console.WriteLine(array[0]);\n",
    "\n",
    "        }\n",
    "    }\n",
    "}"
   ]
  },
  {
   "cell_type": "markdown",
   "metadata": {},
   "source": [
    "![](PS2-OutPut.png)"
   ]
  },
  {
   "cell_type": "code",
   "execution_count": null,
   "metadata": {},
   "outputs": [],
   "source": []
  }
 ],
 "metadata": {
  "kernelspec": {
   "display_name": "Python 3",
   "language": "python",
   "name": "python3"
  },
  "language_info": {
   "codemirror_mode": {
    "name": "ipython",
    "version": 3
   },
   "file_extension": ".py",
   "mimetype": "text/x-python",
   "name": "python",
   "nbconvert_exporter": "python",
   "pygments_lexer": "ipython3",
   "version": "3.7.4"
  }
 },
 "nbformat": 4,
 "nbformat_minor": 2
}
