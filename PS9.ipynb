{
 "cells": [
  {
   "cell_type": "markdown",
   "metadata": {},
   "source": [
    "Question 9)\n",
    "Each of the following will cause an exception (an error). Identify what type of exception each will cause.\n",
    "Trying to add incompatible variables, as in adding 6 + ‘a’\n",
    "\n",
    "Referring to the 12th item of a list that has only 10 items\n",
    "\n",
    "Using a value that is out of range for a function’s input, such as calling math.sqrt(-1.0)\n",
    "\n",
    "Using an undeclared variable, such as print(x) when x has not been defined\n",
    "\n",
    "Trying to open a file that does not exist, such as mistyping the file name or looking in the wrong directory."
   ]
  },
  {
   "cell_type": "code",
   "execution_count": 27,
   "metadata": {},
   "outputs": [
    {
     "name": "stdout",
     "output_type": "stream",
     "text": [
      "(<class 'TypeError'>, TypeError(\"unsupported operand type(s) for +: 'int' and 'str'\"), <traceback object at 0x7ff7cfdc9cd0>)\n",
      "(<class 'IndexError'>, IndexError('list index out of range'), <traceback object at 0x7ff7cfdc9cd0>)\n",
      "(<class 'ValueError'>, ValueError('math domain error'), <traceback object at 0x7ff7cfdc5460>)\n",
      "(<class 'NameError'>, NameError(\"name 'x' is not defined\"), <traceback object at 0x7ff7cfdc5460>)\n",
      "(<class 'FileNotFoundError'>, FileNotFoundError(2, 'No such file or directory'), <traceback object at 0x7ff7cfdc9cd0>)\n"
     ]
    }
   ],
   "source": [
    "import sys\n",
    "import math\n",
    "try:\n",
    "    \n",
    "    number = 6 + \"c\"\n",
    "    \n",
    "    pass\n",
    "except (ValueError,TypeError,ZeroDivisionError,IndexError):\n",
    "    print(sys.exc_info())\n",
    "    \n",
    "    \n",
    "try:\n",
    "    \n",
    "    list = [1,2,3,4,5,6,7,8,9,10,11]\n",
    "    print(list[12])\n",
    "    \n",
    "    pass\n",
    "except (ValueError,TypeError,ZeroDivisionError,IndexError):\n",
    "    print(sys.exc_info())\n",
    "\n",
    "try:\n",
    "    \n",
    "    \n",
    "    print(math.sqrt(-1.0))\n",
    "    \n",
    "    \n",
    "    pass\n",
    "except (ValueError,TypeError,ZeroDivisionError,IndexError):\n",
    "    print(sys.exc_info())\n",
    "    \n",
    "\n",
    "try:\n",
    "    \n",
    "    \n",
    "    print(x)\n",
    "    \n",
    "    \n",
    "    pass\n",
    "except (ValueError,TypeError,ZeroDivisionError,IndexError,NameError):\n",
    "    print(sys.exc_info())\n",
    "    \n",
    "    \n",
    "try:\n",
    "    \n",
    "    infile = open('example.txt', 'r')\n",
    "    infile.close()\n",
    "    \n",
    "    \n",
    "    \n",
    "    \n",
    "    pass\n",
    "except (ValueError,TypeError,ZeroDivisionError,IndexError,FileNotFoundError):\n",
    "    print(sys.exc_info())\n",
    "    \n",
    "\n",
    "    \n",
    "\n"
   ]
  },
  {
   "cell_type": "code",
   "execution_count": null,
   "metadata": {},
   "outputs": [],
   "source": []
  },
  {
   "cell_type": "code",
   "execution_count": null,
   "metadata": {},
   "outputs": [],
   "source": []
  }
 ],
 "metadata": {
  "kernelspec": {
   "display_name": "Python 3",
   "language": "python",
   "name": "python3"
  },
  "language_info": {
   "codemirror_mode": {
    "name": "ipython",
    "version": 3
   },
   "file_extension": ".py",
   "mimetype": "text/x-python",
   "name": "python",
   "nbconvert_exporter": "python",
   "pygments_lexer": "ipython3",
   "version": "3.7.4"
  }
 },
 "nbformat": 4,
 "nbformat_minor": 2
}
