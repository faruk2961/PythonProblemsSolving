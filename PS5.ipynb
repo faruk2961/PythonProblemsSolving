{
 "cells": [
  {
   "cell_type": "markdown",
   "metadata": {},
   "source": [
    "#Question 5)\n",
    "a. Write a function inside(x,y,x1,y1,x2,y2) that returns True or False depending on whether the point (x,y) lies in the rectangle with lower left corner (x1,y1) and upper right corner (x2,y2).\n",
    "     >>> inside(1,1,0,0,2,3)\n",
    "     True\n",
    "     >>> inside(-1,-1,0,0,2,3)\n",
    "     False\n",
    "b. Use function inside() from part a. to write an expression that tests whether the point (1,1) lies in both of the following rectangles: one with lower left corner (0.3, 0.5) and upper right corner (1.1, 0.7) and the other with lower left corner (0.5, 0.2) and upper right corner (1.1, 2).\n",
    "     "
   ]
  },
  {
   "cell_type": "code",
   "execution_count": null,
   "metadata": {},
   "outputs": [],
   "source": [
    "using System;\n",
    "\n",
    "namespace FarukFurkan.KOC.BDAT1004PS5  #Virtual Studio\n",
    "{\n",
    "    class Program\n",
    "    {\n",
    "        static void Main(string[] args)\n",
    "        {\n",
    "           \n",
    "           #Question5- a)Calling the Inside function\n",
    "            Inside(1, 1, 0, 0, 2, 3);\n",
    "            Inside(-1, -1, 0, 0, 2, 3);\n",
    "           #Question5- b )Calling the Inside function\n",
    "            Inside(1, 1, 0.3, 0.5, 1.1, 0.7);\n",
    "            Inside(1, 1, 0.5, 0.2, 1.1, 2);\n",
    "\n",
    "\n",
    "        }\n",
    "\n",
    "        #Creating boolean function\n",
    "        public static bool Inside(double x, double y, double x1, double y1, double x2, double y2)\n",
    "        {\n",
    "            #comparing values\n",
    "            if ((x > x1 && x < x2) && (y > y1 && y < y2))\n",
    "            {\n",
    "                Console.WriteLine(\"true\");\n",
    "                return true;\n",
    "            }\n",
    "\n",
    "            Console.WriteLine(\"false\");\n",
    "            return false;\n",
    "        }\n",
    "\n",
    "    }\n",
    "}"
   ]
  },
  {
   "cell_type": "markdown",
   "metadata": {},
   "source": [
    "![](PS5-OutPut.jpg)"
   ]
  },
  {
   "cell_type": "code",
   "execution_count": null,
   "metadata": {},
   "outputs": [],
   "source": []
  }
 ],
 "metadata": {
  "kernelspec": {
   "display_name": "Python 3",
   "language": "python",
   "name": "python3"
  },
  "language_info": {
   "codemirror_mode": {
    "name": "ipython",
    "version": 3
   },
   "file_extension": ".py",
   "mimetype": "text/x-python",
   "name": "python",
   "nbconvert_exporter": "python",
   "pygments_lexer": "ipython3",
   "version": "3.7.4"
  }
 },
 "nbformat": 4,
 "nbformat_minor": 2
}
