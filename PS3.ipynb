{
 "cells": [
  {
   "cell_type": "markdown",
   "metadata": {},
   "source": [
    "  Question 3)implement function triangleArea(a,b,c) that takes as input the lengths of the 3 sides of a triangle and\n",
    "        returns the area of the triangle. By Heron's formula, the area of a triangle with side lengths a, b, and c is         s(s-a)(s-b)(s-c), where  s=(a+b+c)/2."
   ]
  },
  {
   "cell_type": "code",
   "execution_count": null,
   "metadata": {},
   "outputs": [],
   "source": [
    "using System;\n",
    "\n",
    "namespace FarukFurkan.KOC.BDAT1004PS3 #Virtual Studio\n",
    "{\n",
    "    class Program\n",
    "    {\n",
    "      \n",
    "\n",
    "\n",
    "        static void Main(string[] args)\n",
    "        {\n",
    "            #calling triangleArea function\n",
    "            triangleArea();\n",
    "        }\n",
    "\n",
    "        \n",
    "\n",
    "\n",
    "        public static void triangleArea()\n",
    "        {\n",
    "            #converting user string values to integer\n",
    "            Console.WriteLine(\"Enter 3 integer: \");\n",
    "            int a = Convert.ToInt32(Console.ReadLine());\n",
    "            int b = Convert.ToInt32(Console.ReadLine());\n",
    "            int c = Convert.ToInt32(Console.ReadLine());\n",
    "\n",
    "            var s = (a + b + c) / 2;\n",
    "\n",
    "            #using Math library\n",
    "            var triangleArea = Math.Sqrt(s * (s - a) * (s - b) * (s - c));\n",
    "            Console.WriteLine(\"The area is : \" + triangleArea);\n",
    "        }\n",
    "\n",
    "    }\n",
    "}"
   ]
  },
  {
   "cell_type": "markdown",
   "metadata": {},
   "source": [
    "![](PS3-OutPut.png)"
   ]
  },
  {
   "cell_type": "code",
   "execution_count": null,
   "metadata": {},
   "outputs": [],
   "source": []
  }
 ],
 "metadata": {
  "kernelspec": {
   "display_name": "Python 3",
   "language": "python",
   "name": "python3"
  },
  "language_info": {
   "codemirror_mode": {
    "name": "ipython",
    "version": 3
   },
   "file_extension": ".py",
   "mimetype": "text/x-python",
   "name": "python",
   "nbconvert_exporter": "python",
   "pygments_lexer": "ipython3",
   "version": "3.7.4"
  }
 },
 "nbformat": 4,
 "nbformat_minor": 2
}
