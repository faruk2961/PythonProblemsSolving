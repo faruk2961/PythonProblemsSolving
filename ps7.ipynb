{
 "cells": [
  {
   "cell_type": "markdown",
   "metadata": {},
   "source": [
    "Question 7) \n",
    "File bloodtype1.txt records blood-types of patients (A, B, AB, O or OO) at a clinic. Write a function bldcount() that reads the file with name name and reports (i.e., prints) how many patients there are in each bloodtype.\n",
    ">>> bldcount('bloodtype.txt')\n",
    "There are 10 patients of blood type A. \n",
    "There is one patient of blood type B. \n",
    "There are 10 patients of blood type AB. \n",
    "There are 12 patients of blood type O. \n",
    "There are no patients of blood type OO."
   ]
  },
  {
   "cell_type": "code",
   "execution_count": 80,
   "metadata": {},
   "outputs": [
    {
     "name": "stdout",
     "output_type": "stream",
     "text": [
      "There are  15 patients of blood type A.\n",
      "There are  1 patients of blood type B.\n",
      "There are  13 patients of blood type AB.\n",
      "There are  15 patients of blood type 0.\n",
      "There are  0 patients of blood type 00.\n"
     ]
    }
   ],
   "source": [
    "def bldcount(filename):\n",
    "    #openin txt file\n",
    "    infile = open(filename, 'r')\n",
    "    content = infile.read()\n",
    "    infile.close()\n",
    "    lists = content.split()\n",
    "    \n",
    "    length = len(lists)\n",
    "   \n",
    "    bloodtypeA = 0\n",
    "    bloodtypeB = 0\n",
    "    bloodtypeAB = 0\n",
    "    bloodtype0 = 0\n",
    "    bloodtype00 = 0\n",
    "    #iterating over list\n",
    "    for i in range(length):\n",
    "      \n",
    "        if lists[i] == \"A\":\n",
    "            bloodtypeA += 1\n",
    "            \n",
    "        elif lists[i]== \"B\":\n",
    "            \n",
    "            bloodtypeB += 1\n",
    "\n",
    "        elif lists[i] == \"AB\":\n",
    "            \n",
    "            bloodtypeAB += 1\n",
    "\n",
    "        elif lists[i] == \"0\":\n",
    "            \n",
    "            bloodtype0 += 1\n",
    "        elif lists[i] == \"00\":\n",
    "            bloodtype00 += 1\n",
    "\n",
    "        else:\n",
    "            print(\"There is no patience of that blood type\")\n",
    "        \n",
    "        \n",
    "    print('There are ' ,bloodtypeA ,  'patients of blood type A.')\n",
    "    print('There are ' ,bloodtypeB ,  'patients of blood type B.')\n",
    "    print('There are ' ,bloodtypeAB ,  'patients of blood type AB.')\n",
    "    print('There are ' ,bloodtype0 ,  'patients of blood type 0.')\n",
    "    print('There are ' ,bloodtype00 ,  'patients of blood type 00.')\n",
    "    \n",
    "\n",
    "\n",
    "bldcount('bloodtype1.txt')\n",
    "\n"
   ]
  },
  {
   "cell_type": "code",
   "execution_count": null,
   "metadata": {},
   "outputs": [],
   "source": []
  },
  {
   "cell_type": "code",
   "execution_count": null,
   "metadata": {},
   "outputs": [],
   "source": []
  }
 ],
 "metadata": {
  "kernelspec": {
   "display_name": "Python 3",
   "language": "python",
   "name": "python3"
  },
  "language_info": {
   "codemirror_mode": {
    "name": "ipython",
    "version": 3
   },
   "file_extension": ".py",
   "mimetype": "text/x-python",
   "name": "python",
   "nbconvert_exporter": "python",
   "pygments_lexer": "ipython3",
   "version": "3.7.4"
  }
 },
 "nbformat": 4,
 "nbformat_minor": 2
}
