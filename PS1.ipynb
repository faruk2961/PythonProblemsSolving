{
 "cells": [
  {
   "cell_type": "markdown",
   "metadata": {},
   "source": [
    "![](PS5-OutPut)"
   ]
  },
  {
   "cell_type": "markdown",
   "metadata": {},
   "source": [
    "#Question1\n",
    "Data types are "
   ]
  },
  {
   "cell_type": "code",
   "execution_count": null,
   "metadata": {},
   "outputs": [],
   "source": [
    "using System; #Virtual Studio \n",
    "\n",
    "namespace FarukFurkan.KOC.BDAT1004PS1\n",
    "{\n",
    "    class Program\n",
    "    {\n",
    "        static void Main(string[] args)\n",
    "        {\n",
    "            //Question 1) getting the types\n",
    "            var variable1 = 5;\n",
    "            var variable2 = 5.0;\n",
    "            var variable3 = 5 > 1;\n",
    "            var variable4 = '5';\n",
    "            var variable5 = 5 * 2;\n",
    "            var variable6 = '5' * 2;\n",
    "            var variable7 = 5 / 2;\n",
    "            var variable8 = 5 % 2;\n",
    "            int[] variable9 = { 5, 2, 1 };\n",
    "            var variable10 = 5 == 3;\n",
    "            var variable11 = 3.14159265359;\n",
    "\n",
    "            Console.WriteLine(variable1.GetType());\n",
    "            Console.WriteLine(variable2.GetType());\n",
    "            Console.WriteLine(variable3.GetType());\n",
    "            Console.WriteLine(variable4.GetType());\n",
    "            Console.WriteLine(variable5.GetType());\n",
    "            Console.WriteLine(variable6.GetType());\n",
    "            Console.WriteLine(variable7.GetType());\n",
    "            Console.WriteLine(variable8.GetType());\n",
    "            Console.WriteLine(variable9.GetType());\n",
    "            Console.WriteLine(variable10.GetType());\n",
    "            Console.WriteLine(variable11.GetType());\n",
    "\n",
    "        }\n",
    "    }\n",
    "}"
   ]
  },
  {
   "cell_type": "markdown",
   "metadata": {},
   "source": [
    "![](OutPut.png)"
   ]
  },
  {
   "cell_type": "code",
   "execution_count": null,
   "metadata": {},
   "outputs": [],
   "source": []
  }
 ],
 "metadata": {
  "kernelspec": {
   "display_name": "Python 3",
   "language": "python",
   "name": "python3"
  },
  "language_info": {
   "codemirror_mode": {
    "name": "ipython",
    "version": 3
   },
   "file_extension": ".py",
   "mimetype": "text/x-python",
   "name": "python",
   "nbconvert_exporter": "python",
   "pygments_lexer": "ipython3",
   "version": "3.7.4"
  }
 },
 "nbformat": 4,
 "nbformat_minor": 2
}
